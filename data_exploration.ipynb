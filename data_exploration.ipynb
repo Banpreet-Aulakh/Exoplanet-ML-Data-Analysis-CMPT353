{
 "cells": [
  {
   "cell_type": "markdown",
   "metadata": {},
   "source": [
    "# Initial Exoplanet Data Exploration of TESS Candidates\n",
    "\n",
    "## Purpose\n",
    "\n",
    "The main goal of this notebook is to explore and understand the TESS confirmed exoplanet dataset and the set of false positive exoplanet examples.\n",
    "\n",
    "Key features of this dataset will be analyzed to:\n",
    "\n",
    "1. **Gain Familiarity:** Develop an understanding of the types of data avaulable and their distributions\n",
    "2. **Identify Patterns:** Look for any distinguishing characteristics between confirmed exoplanets and their false positive counterparts\n",
    "3. **Guide Feature Engineering:** Use the insights gained to pick features for our machine learning model, which will aim to classify exoplanet transit signals\n",
    "\n",
    "## Dataset\n",
    "\n",
    "We will be using the following data:\n",
    "* **NASA_TESS_Project_Candidates_Labelled_CSV.csv:** Contains metadata for confirmed exoplanets discovered by TESS.\n",
    "* **TESS Light Curves:** We will download light curve data from MAST for a subset of confirmed exoplanets and false positives, using the TIC IDs provided in the CSV file.\n",
    "\n",
    "## Libraries / Prerequisites to run\n",
    "\n",
    "* `pandas`: For data manipulation and analysis.\n",
    "* `numpy`: For numerical operations.\n",
    "* `matplotlib`: For creating visualizations.\n",
    "* `lightkurve`: For downloading and manipulating TESS light curves."
   ]
  },
  {
   "cell_type": "markdown",
   "metadata": {},
   "source": [
    "# 1. Loading and Cleaning the data"
   ]
  },
  {
   "cell_type": "code",
   "execution_count": 1,
   "metadata": {},
   "outputs": [],
   "source": [
    "try: \n",
    "    import lightkurve as lk\n",
    "except ImportError:\n",
    "    %pip install lightkurve\n",
    "    import lightkurve as lk\n",
    "    print(\"Lightkurve installed successfully\")\n",
    "import numpy as np\n",
    "import matplotlib.pyplot as plt\n",
    "import pandas as pd"
   ]
  },
  {
   "cell_type": "code",
   "execution_count": 49,
   "metadata": {},
   "outputs": [],
   "source": [
    "# Laod the Labeled dataset skipping the header information in the file\n",
    "\n",
    "labeled_planet_data = pd.read_csv('data/NASA_TESS_Project_Candidates_Labelled_CSV.csv', skiprows=69)\n"
   ]
  },
  {
   "cell_type": "code",
   "execution_count": 50,
   "metadata": {},
   "outputs": [
    {
     "name": "stdout",
     "output_type": "stream",
     "text": [
      "| toi     | tid       | tfopwg_disp   | rastr        | ra      | decstr        | dec      | st_pmra   | st_pmraerr1   | st_pmraerr2   | st_pmralim   | st_pmdec   | st_pmdecerr1   | st_pmdecerr2   | st_pmdeclim   | pl_tranmid   | pl_tranmiderr1   | pl_tranmiderr2   | pl_tranmidlim   | pl_orbper   | pl_orbpererr1   | pl_orbpererr2   | pl_orbperlim   | pl_trandurh   | pl_trandurherr1   | pl_trandurherr2   | pl_trandurhlim   | pl_trandep   | pl_trandeperr1   | pl_trandeperr2   | pl_trandeplim   | pl_rade   | pl_radeerr1   | pl_radeerr2   | pl_radelim   | pl_insol   | pl_insolerr1   | pl_insolerr2   | pl_insollim   | pl_eqt   | pl_eqterr1   | pl_eqterr2   | pl_eqtlim   | st_tmag   | st_tmagerr1   | st_tmagerr2   | st_tmaglim   | st_dist   | st_disterr1   | st_disterr2   | st_distlim   | st_teff   | st_tefferr1   | st_tefferr2   | st_tefflim   | st_logg   | st_loggerr1   | st_loggerr2   | st_logglim   | st_rad   | st_raderr1   | st_raderr2   | st_radlim   | toi_created         | rowupdate           |\n",
      "|:--------|:----------|:--------------|:-------------|:--------|:--------------|:---------|:----------|:--------------|:--------------|:-------------|:-----------|:---------------|:---------------|:--------------|:-------------|:-----------------|:-----------------|:----------------|:------------|:----------------|:----------------|:---------------|:--------------|:------------------|:------------------|:-----------------|:-------------|:-----------------|:-----------------|:----------------|:----------|:--------------|:--------------|:-------------|:-----------|:---------------|:---------------|:--------------|:---------|:-------------|:-------------|:------------|:----------|:--------------|:--------------|:-------------|:----------|:--------------|:--------------|:-------------|:----------|:--------------|:--------------|:-------------|:----------|:--------------|:--------------|:-------------|:---------|:-------------|:-------------|:------------|:--------------------|:--------------------|\n",
      "| 1000.01 | 50365310  | FP            | 07h29m25.85s | 112.358 | -12d41m45.46s | -12.696  | -5.964    | 0.085         | -0.085        | 0            | -0.076     | 0.072          | -0.072         | 0             | 2.45923e+06  | 0.001657         | -0.001657        | 0               | 2.17135     | 0.0002637       | -0.0002637      | 0              | 2.01722       | 0.319588          | -0.319588         | 0                | 656.886      | 37.7782          | -37.7782         | 0               | 5.81816   | 1.91055       | -1.91055      | 0            | 22601.9    | nan            | nan            | nan           | 3127.2   | nan          | nan          | nan         | 9.604     | 0.013         | -0.013        | 0            | 485.735   | 11.9515       | -11.9515      | 0            | 10249     | 264.7         | -264.7        | 0            | 4.19      | 0.07          | -0.07         | 0            | 2.16986  | 0.0725729    | -0.0725729   | 0           | 2019-07-24 15:58:33 | 2021-10-29 12:59:15 |\n",
      "| 1001.01 | 88863718  | PC            | 08h10m19.31s | 122.58  | -05d30m49.87s | -5.51385 | -4.956    | 0.102         | -0.102        | 0            | -15.555    | 0.072          | -0.072         | 0             | 2.45999e+06  | 0.001916         | -0.001916        | 0               | 1.93165     | 5.3e-06         | -5.3e-06        | 0              | 3.166         | 0.647             | -0.647            | 0                | 1286         | 1186.49          | -1186.49         | 0               | 11.2154   | 2.6242        | -2.6242       | 0            | 44464.5    | nan            | nan            | nan           | 4045     | nan          | nan          | nan         | 9.42344   | 0.006         | -0.006        | 0            | 295.862   | 5.91          | -5.91         | 0            | 7070      | 126.4         | -126.4        | 0            | 4.03      | 0.09          | -0.09         | 0            | 2.01     | 0.09         | -0.09        | 0           | 2019-07-24 15:58:33 | 2023-04-03 14:31:04 |\n",
      "| 1002.01 | 124709665 | FP            | 06h58m54.47s | 104.727 | -10d34m49.64s | -10.5805 | -1.462    | 0.206         | -0.206        | 0            | -2.249     | 0.206          | -0.206         | 0             | 2.45922e+06  | 0.000625         | -0.000625        | 0               | 1.86756     | 3e-06           | -3e-06          | 0              | 1.408         | 0.184             | -0.184            | 0                | 1500         | 1.7584           | -1.7584          | 0               | 23.7529   | nan           | nan           | 0            | 2860.61    | nan            | nan            | nan           | 2037     | nan          | nan          | nan         | 9.2995    | 0.058         | -0.058        | 0            | 943.109   | 106.333       | -106.333      | 0            | 8924      | 124           | -124          | 0            | nan       | nan           | nan           | 0            | 5.73     | nan          | nan          | 0           | 2019-07-24 15:58:33 | 2022-07-11 16:02:02 |\n",
      "| 1003.01 | 106997505 | FP            | 07h22m14.39s | 110.56  | -25d12m25.26s | -25.207  | -0.939    | 0.041         | -0.041        | 0            | 1.64       | 0.055          | -0.055         | 0             | 2.45849e+06  | 0.00535          | -0.00535         | 0               | 2.74323     | 0.00108         | -0.00108        | 0              | 3.167         | 0.642             | -0.642            | 0                | 383.41       | 0.781988         | -0.781988        | 0               | nan       | nan           | nan           | 0            | 1177.36    | nan            | nan            | nan           | 1631     | nan          | nan          | nan         | 9.3003    | 0.037         | -0.037        | 0            | 7728.17   | 1899.57       | -1899.57      | 0            | 5388.5    | 567           | -567          | 0            | 4.15      | 1.64          | -1.64         | 0            | nan      | nan          | nan          | 0           | 2019-07-24 15:58:33 | 2022-02-23 10:10:02 |\n",
      "| 1004.01 | 238597883 | FP            | 08h08m42.77s | 122.178 | -48d48m10.12s | -48.8028 | -4.496    | 0.069         | -0.069        | 0            | 9.347      | 0.062          | -0.062         | 0             | 2.45999e+06  | 0.003748         | -0.003748        | 0               | 3.57301     | 1.28e-05        | -1.28e-05       | 0              | 3.37          | 1.029             | -1.029            | 0                | 755          | 1306.55          | -1306.55         | 0               | 11.3113   | 3.24714       | -3.24714      | 0            | 54679.3    | nan            | nan            | nan           | 4260     | nan          | nan          | nan         | 9.1355    | 0.006         | -0.006        | 0            | 356.437   | 4.6175        | -4.6175       | 0            | 9219      | 171.1         | -171.1        | 0            | 4.14      | 0.07          | -0.07         | 0            | 2.15     | 0.06         | -0.06        | 0           | 2019-07-24 15:58:33 | 2023-03-08 16:02:02 |\n"
     ]
    }
   ],
   "source": [
    "# Check the first 5 rows of the dataset to see if it was loaded correctly\n",
    "print(labeled_planet_data.head().to_markdown(index=False, numalign=\"left\", stralign=\"left\"))"
   ]
  },
  {
   "cell_type": "code",
   "execution_count": 51,
   "metadata": {},
   "outputs": [
    {
     "name": "stdout",
     "output_type": "stream",
     "text": [
      "Index(['toi', 'tid', 'tfopwg_disp', 'rastr', 'ra', 'decstr', 'dec', 'st_pmra',\n",
      "       'st_pmraerr1', 'st_pmraerr2', 'st_pmralim', 'st_pmdec', 'st_pmdecerr1',\n",
      "       'st_pmdecerr2', 'st_pmdeclim', 'pl_tranmid', 'pl_tranmiderr1',\n",
      "       'pl_tranmiderr2', 'pl_tranmidlim', 'pl_orbper', 'pl_orbpererr1',\n",
      "       'pl_orbpererr2', 'pl_orbperlim', 'pl_trandurh', 'pl_trandurherr1',\n",
      "       'pl_trandurherr2', 'pl_trandurhlim', 'pl_trandep', 'pl_trandeperr1',\n",
      "       'pl_trandeperr2', 'pl_trandeplim', 'pl_rade', 'pl_radeerr1',\n",
      "       'pl_radeerr2', 'pl_radelim', 'pl_insol', 'pl_insolerr1', 'pl_insolerr2',\n",
      "       'pl_insollim', 'pl_eqt', 'pl_eqterr1', 'pl_eqterr2', 'pl_eqtlim',\n",
      "       'st_tmag', 'st_tmagerr1', 'st_tmagerr2', 'st_tmaglim', 'st_dist',\n",
      "       'st_disterr1', 'st_disterr2', 'st_distlim', 'st_teff', 'st_tefferr1',\n",
      "       'st_tefferr2', 'st_tefflim', 'st_logg', 'st_loggerr1', 'st_loggerr2',\n",
      "       'st_logglim', 'st_rad', 'st_raderr1', 'st_raderr2', 'st_radlim',\n",
      "       'toi_created', 'rowupdate'],\n",
      "      dtype='object')\n"
     ]
    }
   ],
   "source": [
    "# Check the columns in the dataset\n",
    "print(labeled_planet_data.columns)"
   ]
  },
  {
   "cell_type": "code",
   "execution_count": 55,
   "metadata": {},
   "outputs": [
    {
     "name": "stdout",
     "output_type": "stream",
     "text": [
      "       TOI     TIC ID Disposition\n",
      "0  1000.01   50365310          FP\n",
      "1  1001.01   88863718          PC\n",
      "2  1002.01  124709665          FP\n",
      "3  1003.01  106997505          FP\n",
      "4  1004.01  238597883          FP\n"
     ]
    }
   ],
   "source": [
    "# Since we just need the identifying information to download the light curve data, as well as its label, we will only keep toi, tid, tfopwg_disp columns\n",
    "filtered_data = labeled_planet_data[['toi', 'tid', 'tfopwg_disp']].rename(columns={'toi': 'TOI', 'tid': 'TIC ID', 'tfopwg_disp': 'Disposition'})\n",
    "\n",
    "\n",
    "# Check the first 5 rows of the filtered dataset\n",
    "print(filtered_data.head())"
   ]
  },
  {
   "cell_type": "code",
   "execution_count": 64,
   "metadata": {},
   "outputs": [
    {
     "name": "stdout",
     "output_type": "stream",
     "text": [
      "Number of confirmed planets: 4653\n",
      "Number of false positives: 1035\n"
     ]
    }
   ],
   "source": [
    "# Filter the confirmed planets and false positives\n",
    "confirmed_planets = filtered_data[filtered_data['Disposition'] == 'PC'].dropna()\n",
    "false_positives = filtered_data[filtered_data['Disposition'] == 'FP'].dropna()\n",
    "\n",
    "# Check how many confirmed planets and false positives are there\n",
    "print(f\"Number of confirmed planets: {len(confirmed_planets)}\")\n",
    "print(f\"Number of false positives: {len(false_positives)}\")\n"
   ]
  },
  {
   "cell_type": "code",
   "execution_count": null,
   "metadata": {},
   "outputs": [],
   "source": []
  }
 ],
 "metadata": {
  "kernelspec": {
   "display_name": "base",
   "language": "python",
   "name": "python3"
  },
  "language_info": {
   "codemirror_mode": {
    "name": "ipython",
    "version": 3
   },
   "file_extension": ".py",
   "mimetype": "text/x-python",
   "name": "python",
   "nbconvert_exporter": "python",
   "pygments_lexer": "ipython3",
   "version": "3.11.7"
  }
 },
 "nbformat": 4,
 "nbformat_minor": 2
}
