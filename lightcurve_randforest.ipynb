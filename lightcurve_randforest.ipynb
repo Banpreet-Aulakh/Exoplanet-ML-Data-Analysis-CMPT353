{
  "cells": [
    {
      "cell_type": "code",
      "execution_count": 43,
      "metadata": {
        "colab": {
          "base_uri": "https://localhost:8080/"
        },
        "id": "9oKrqpHTOgdC",
        "outputId": "af0c5d5f-8305-43e3-acf0-db42efa4b30c"
      },
      "outputs": [],
      "source": [
        "#For use with training on Google Colab \n",
        "\n",
        "#from google.colab import drive\n",
        "\n",
        "#drive.mount('/content/drive')"
      ]
    },
    {
      "cell_type": "markdown",
      "metadata": {
        "id": "Wsu8QL3TQb4K"
      },
      "source": [
        "# Load Data From Drive"
      ]
    },
    {
      "cell_type": "code",
      "execution_count": 44,
      "metadata": {
        "collapsed": true,
        "id": "p6C_jdSXNTLI"
      },
      "outputs": [],
      "source": [
        "#!unzip \"/content/drive/My Drive/Lightcurves/confirmed_lightcurve_processed.zip\""
      ]
    },
    {
      "cell_type": "code",
      "execution_count": 45,
      "metadata": {
        "collapsed": true,
        "id": "ECALA_NRPIHF"
      },
      "outputs": [],
      "source": [
        "#!unzip \"/content/drive/My Drive/Lightcurves/false_lightcurve_processed.zip\""
      ]
    },
    {
      "cell_type": "code",
      "execution_count": 46,
      "metadata": {
        "colab": {
          "base_uri": "https://localhost:8080/"
        },
        "id": "Ho8mgbhCP8Jc",
        "outputId": "80da0eba-f6b9-452a-f026-f754bc8b9608"
      },
      "outputs": [],
      "source": [
        "#!ls"
      ]
    },
    {
      "cell_type": "code",
      "execution_count": 47,
      "metadata": {},
      "outputs": [],
      "source": [
        "# Colab Paths\n",
        "#confirmed_lc_path = \"/content/confirmed_lightcurves\"\n",
        "#false_lc_path = \"/content/false_lightcurves\""
      ]
    },
    {
      "cell_type": "code",
      "execution_count": 48,
      "metadata": {},
      "outputs": [],
      "source": [
        "# Local Paths\n",
        "confirmed_lc_path = \"data/confirmed_lightcurves\"\n",
        "false_lc_path = \"data/false_lightcurves\""
      ]
    },
    {
      "cell_type": "markdown",
      "metadata": {
        "id": "KSgAGz_BQqoJ"
      },
      "source": [
        "# Extract Transform and Load for Random Forest"
      ]
    },
    {
      "cell_type": "code",
      "execution_count": 49,
      "metadata": {
        "id": "FiPQdbc5Q42i"
      },
      "outputs": [],
      "source": [
        "import pandas as pd\n",
        "import numpy as np\n",
        "from sklearn.ensemble import RandomForestClassifier\n",
        "from sklearn.model_selection import train_test_split\n",
        "import joblib # for saving model\n",
        "from sklearn.metrics import accuracy_score # for evaluating model\n",
        "import os"
      ]
    },
    {
      "cell_type": "code",
      "execution_count": 50,
      "metadata": {
        "id": "c1YDQWWrRv2t"
      },
      "outputs": [],
      "source": [
        "def load_data(dir):\n",
        "  data = []\n",
        "  for file in os.listdir(dir):\n",
        "    if file.endswith(\".csv\"):\n",
        "      filepath = os.path.join(dir, file)\n",
        "      df = pd.read_csv(filepath)\n",
        "      df = df.iloc[:, :13]\n",
        "      df = df.drop([\"QUALITY\", \"ORBITID\"], axis=1)\n",
        "      df = df.rename(\n",
        "          columns={\n",
        "              \"KSPSAP_FLUX\": \"DET_FLUX\",\n",
        "              \"KSPSAP_FLUX_ERR\": \"DET_FLUX_ERR\",\n",
        "              \"KSPSAP_FLUX_SML\": \"DET_FLUX_SML\",\n",
        "              \"KSPSAP_FLUX_LAG\": \"DET_FLUX_LAG\",\n",
        "          }\n",
        "      )\n",
        "      data.append(df)\n",
        "  return pd.concat(data, ignore_index=True)"
      ]
    },
    {
      "cell_type": "code",
      "execution_count": 51,
      "metadata": {
        "id": "AajBQhmOSPyK"
      },
      "outputs": [
        {
          "ename": "KeyboardInterrupt",
          "evalue": "",
          "output_type": "error",
          "traceback": [
            "\u001b[1;31m---------------------------------------------------------------------------\u001b[0m",
            "\u001b[1;31mKeyboardInterrupt\u001b[0m                         Traceback (most recent call last)",
            "Cell \u001b[1;32mIn[51], line 1\u001b[0m\n\u001b[1;32m----> 1\u001b[0m confirmed_lc \u001b[38;5;241m=\u001b[39m load_data(confirmed_lc_path)\n",
            "Cell \u001b[1;32mIn[50], line 6\u001b[0m, in \u001b[0;36mload_data\u001b[1;34m(dir)\u001b[0m\n\u001b[0;32m      4\u001b[0m \u001b[38;5;28;01mif\u001b[39;00m file\u001b[38;5;241m.\u001b[39mendswith(\u001b[38;5;124m\"\u001b[39m\u001b[38;5;124m.csv\u001b[39m\u001b[38;5;124m\"\u001b[39m):\n\u001b[0;32m      5\u001b[0m   filepath \u001b[38;5;241m=\u001b[39m os\u001b[38;5;241m.\u001b[39mpath\u001b[38;5;241m.\u001b[39mjoin(\u001b[38;5;28mdir\u001b[39m, file)\n\u001b[1;32m----> 6\u001b[0m   df \u001b[38;5;241m=\u001b[39m pd\u001b[38;5;241m.\u001b[39mread_csv(filepath)\n\u001b[0;32m      7\u001b[0m   df \u001b[38;5;241m=\u001b[39m df\u001b[38;5;241m.\u001b[39miloc[:, :\u001b[38;5;241m13\u001b[39m]\n\u001b[0;32m      8\u001b[0m   df \u001b[38;5;241m=\u001b[39m df\u001b[38;5;241m.\u001b[39mdrop([\u001b[38;5;124m\"\u001b[39m\u001b[38;5;124mQUALITY\u001b[39m\u001b[38;5;124m\"\u001b[39m, \u001b[38;5;124m\"\u001b[39m\u001b[38;5;124mORBITID\u001b[39m\u001b[38;5;124m\"\u001b[39m], axis\u001b[38;5;241m=\u001b[39m\u001b[38;5;241m1\u001b[39m)\n",
            "File \u001b[1;32mg:\\anaconda3\\Lib\\site-packages\\pandas\\io\\parsers\\readers.py:948\u001b[0m, in \u001b[0;36mread_csv\u001b[1;34m(filepath_or_buffer, sep, delimiter, header, names, index_col, usecols, dtype, engine, converters, true_values, false_values, skipinitialspace, skiprows, skipfooter, nrows, na_values, keep_default_na, na_filter, verbose, skip_blank_lines, parse_dates, infer_datetime_format, keep_date_col, date_parser, date_format, dayfirst, cache_dates, iterator, chunksize, compression, thousands, decimal, lineterminator, quotechar, quoting, doublequote, escapechar, comment, encoding, encoding_errors, dialect, on_bad_lines, delim_whitespace, low_memory, memory_map, float_precision, storage_options, dtype_backend)\u001b[0m\n\u001b[0;32m    935\u001b[0m kwds_defaults \u001b[38;5;241m=\u001b[39m _refine_defaults_read(\n\u001b[0;32m    936\u001b[0m     dialect,\n\u001b[0;32m    937\u001b[0m     delimiter,\n\u001b[1;32m   (...)\u001b[0m\n\u001b[0;32m    944\u001b[0m     dtype_backend\u001b[38;5;241m=\u001b[39mdtype_backend,\n\u001b[0;32m    945\u001b[0m )\n\u001b[0;32m    946\u001b[0m kwds\u001b[38;5;241m.\u001b[39mupdate(kwds_defaults)\n\u001b[1;32m--> 948\u001b[0m \u001b[38;5;28;01mreturn\u001b[39;00m _read(filepath_or_buffer, kwds)\n",
            "File \u001b[1;32mg:\\anaconda3\\Lib\\site-packages\\pandas\\io\\parsers\\readers.py:611\u001b[0m, in \u001b[0;36m_read\u001b[1;34m(filepath_or_buffer, kwds)\u001b[0m\n\u001b[0;32m    608\u001b[0m _validate_names(kwds\u001b[38;5;241m.\u001b[39mget(\u001b[38;5;124m\"\u001b[39m\u001b[38;5;124mnames\u001b[39m\u001b[38;5;124m\"\u001b[39m, \u001b[38;5;28;01mNone\u001b[39;00m))\n\u001b[0;32m    610\u001b[0m \u001b[38;5;66;03m# Create the parser.\u001b[39;00m\n\u001b[1;32m--> 611\u001b[0m parser \u001b[38;5;241m=\u001b[39m TextFileReader(filepath_or_buffer, \u001b[38;5;241m*\u001b[39m\u001b[38;5;241m*\u001b[39mkwds)\n\u001b[0;32m    613\u001b[0m \u001b[38;5;28;01mif\u001b[39;00m chunksize \u001b[38;5;129;01mor\u001b[39;00m iterator:\n\u001b[0;32m    614\u001b[0m     \u001b[38;5;28;01mreturn\u001b[39;00m parser\n",
            "File \u001b[1;32mg:\\anaconda3\\Lib\\site-packages\\pandas\\io\\parsers\\readers.py:1448\u001b[0m, in \u001b[0;36mTextFileReader.__init__\u001b[1;34m(self, f, engine, **kwds)\u001b[0m\n\u001b[0;32m   1445\u001b[0m     \u001b[38;5;28mself\u001b[39m\u001b[38;5;241m.\u001b[39moptions[\u001b[38;5;124m\"\u001b[39m\u001b[38;5;124mhas_index_names\u001b[39m\u001b[38;5;124m\"\u001b[39m] \u001b[38;5;241m=\u001b[39m kwds[\u001b[38;5;124m\"\u001b[39m\u001b[38;5;124mhas_index_names\u001b[39m\u001b[38;5;124m\"\u001b[39m]\n\u001b[0;32m   1447\u001b[0m \u001b[38;5;28mself\u001b[39m\u001b[38;5;241m.\u001b[39mhandles: IOHandles \u001b[38;5;241m|\u001b[39m \u001b[38;5;28;01mNone\u001b[39;00m \u001b[38;5;241m=\u001b[39m \u001b[38;5;28;01mNone\u001b[39;00m\n\u001b[1;32m-> 1448\u001b[0m \u001b[38;5;28mself\u001b[39m\u001b[38;5;241m.\u001b[39m_engine \u001b[38;5;241m=\u001b[39m \u001b[38;5;28mself\u001b[39m\u001b[38;5;241m.\u001b[39m_make_engine(f, \u001b[38;5;28mself\u001b[39m\u001b[38;5;241m.\u001b[39mengine)\n",
            "File \u001b[1;32mg:\\anaconda3\\Lib\\site-packages\\pandas\\io\\parsers\\readers.py:1705\u001b[0m, in \u001b[0;36mTextFileReader._make_engine\u001b[1;34m(self, f, engine)\u001b[0m\n\u001b[0;32m   1703\u001b[0m     \u001b[38;5;28;01mif\u001b[39;00m \u001b[38;5;124m\"\u001b[39m\u001b[38;5;124mb\u001b[39m\u001b[38;5;124m\"\u001b[39m \u001b[38;5;129;01mnot\u001b[39;00m \u001b[38;5;129;01min\u001b[39;00m mode:\n\u001b[0;32m   1704\u001b[0m         mode \u001b[38;5;241m+\u001b[39m\u001b[38;5;241m=\u001b[39m \u001b[38;5;124m\"\u001b[39m\u001b[38;5;124mb\u001b[39m\u001b[38;5;124m\"\u001b[39m\n\u001b[1;32m-> 1705\u001b[0m \u001b[38;5;28mself\u001b[39m\u001b[38;5;241m.\u001b[39mhandles \u001b[38;5;241m=\u001b[39m get_handle(\n\u001b[0;32m   1706\u001b[0m     f,\n\u001b[0;32m   1707\u001b[0m     mode,\n\u001b[0;32m   1708\u001b[0m     encoding\u001b[38;5;241m=\u001b[39m\u001b[38;5;28mself\u001b[39m\u001b[38;5;241m.\u001b[39moptions\u001b[38;5;241m.\u001b[39mget(\u001b[38;5;124m\"\u001b[39m\u001b[38;5;124mencoding\u001b[39m\u001b[38;5;124m\"\u001b[39m, \u001b[38;5;28;01mNone\u001b[39;00m),\n\u001b[0;32m   1709\u001b[0m     compression\u001b[38;5;241m=\u001b[39m\u001b[38;5;28mself\u001b[39m\u001b[38;5;241m.\u001b[39moptions\u001b[38;5;241m.\u001b[39mget(\u001b[38;5;124m\"\u001b[39m\u001b[38;5;124mcompression\u001b[39m\u001b[38;5;124m\"\u001b[39m, \u001b[38;5;28;01mNone\u001b[39;00m),\n\u001b[0;32m   1710\u001b[0m     memory_map\u001b[38;5;241m=\u001b[39m\u001b[38;5;28mself\u001b[39m\u001b[38;5;241m.\u001b[39moptions\u001b[38;5;241m.\u001b[39mget(\u001b[38;5;124m\"\u001b[39m\u001b[38;5;124mmemory_map\u001b[39m\u001b[38;5;124m\"\u001b[39m, \u001b[38;5;28;01mFalse\u001b[39;00m),\n\u001b[0;32m   1711\u001b[0m     is_text\u001b[38;5;241m=\u001b[39mis_text,\n\u001b[0;32m   1712\u001b[0m     errors\u001b[38;5;241m=\u001b[39m\u001b[38;5;28mself\u001b[39m\u001b[38;5;241m.\u001b[39moptions\u001b[38;5;241m.\u001b[39mget(\u001b[38;5;124m\"\u001b[39m\u001b[38;5;124mencoding_errors\u001b[39m\u001b[38;5;124m\"\u001b[39m, \u001b[38;5;124m\"\u001b[39m\u001b[38;5;124mstrict\u001b[39m\u001b[38;5;124m\"\u001b[39m),\n\u001b[0;32m   1713\u001b[0m     storage_options\u001b[38;5;241m=\u001b[39m\u001b[38;5;28mself\u001b[39m\u001b[38;5;241m.\u001b[39moptions\u001b[38;5;241m.\u001b[39mget(\u001b[38;5;124m\"\u001b[39m\u001b[38;5;124mstorage_options\u001b[39m\u001b[38;5;124m\"\u001b[39m, \u001b[38;5;28;01mNone\u001b[39;00m),\n\u001b[0;32m   1714\u001b[0m )\n\u001b[0;32m   1715\u001b[0m \u001b[38;5;28;01massert\u001b[39;00m \u001b[38;5;28mself\u001b[39m\u001b[38;5;241m.\u001b[39mhandles \u001b[38;5;129;01mis\u001b[39;00m \u001b[38;5;129;01mnot\u001b[39;00m \u001b[38;5;28;01mNone\u001b[39;00m\n\u001b[0;32m   1716\u001b[0m f \u001b[38;5;241m=\u001b[39m \u001b[38;5;28mself\u001b[39m\u001b[38;5;241m.\u001b[39mhandles\u001b[38;5;241m.\u001b[39mhandle\n",
            "File \u001b[1;32mg:\\anaconda3\\Lib\\site-packages\\pandas\\io\\common.py:863\u001b[0m, in \u001b[0;36mget_handle\u001b[1;34m(path_or_buf, mode, encoding, compression, memory_map, is_text, errors, storage_options)\u001b[0m\n\u001b[0;32m    858\u001b[0m \u001b[38;5;28;01melif\u001b[39;00m \u001b[38;5;28misinstance\u001b[39m(handle, \u001b[38;5;28mstr\u001b[39m):\n\u001b[0;32m    859\u001b[0m     \u001b[38;5;66;03m# Check whether the filename is to be opened in binary mode.\u001b[39;00m\n\u001b[0;32m    860\u001b[0m     \u001b[38;5;66;03m# Binary mode does not support 'encoding' and 'newline'.\u001b[39;00m\n\u001b[0;32m    861\u001b[0m     \u001b[38;5;28;01mif\u001b[39;00m ioargs\u001b[38;5;241m.\u001b[39mencoding \u001b[38;5;129;01mand\u001b[39;00m \u001b[38;5;124m\"\u001b[39m\u001b[38;5;124mb\u001b[39m\u001b[38;5;124m\"\u001b[39m \u001b[38;5;129;01mnot\u001b[39;00m \u001b[38;5;129;01min\u001b[39;00m ioargs\u001b[38;5;241m.\u001b[39mmode:\n\u001b[0;32m    862\u001b[0m         \u001b[38;5;66;03m# Encoding\u001b[39;00m\n\u001b[1;32m--> 863\u001b[0m         handle \u001b[38;5;241m=\u001b[39m \u001b[38;5;28mopen\u001b[39m(\n\u001b[0;32m    864\u001b[0m             handle,\n\u001b[0;32m    865\u001b[0m             ioargs\u001b[38;5;241m.\u001b[39mmode,\n\u001b[0;32m    866\u001b[0m             encoding\u001b[38;5;241m=\u001b[39mioargs\u001b[38;5;241m.\u001b[39mencoding,\n\u001b[0;32m    867\u001b[0m             errors\u001b[38;5;241m=\u001b[39merrors,\n\u001b[0;32m    868\u001b[0m             newline\u001b[38;5;241m=\u001b[39m\u001b[38;5;124m\"\u001b[39m\u001b[38;5;124m\"\u001b[39m,\n\u001b[0;32m    869\u001b[0m         )\n\u001b[0;32m    870\u001b[0m     \u001b[38;5;28;01melse\u001b[39;00m:\n\u001b[0;32m    871\u001b[0m         \u001b[38;5;66;03m# Binary mode\u001b[39;00m\n\u001b[0;32m    872\u001b[0m         handle \u001b[38;5;241m=\u001b[39m \u001b[38;5;28mopen\u001b[39m(handle, ioargs\u001b[38;5;241m.\u001b[39mmode)\n",
            "File \u001b[1;32m<frozen codecs>:309\u001b[0m, in \u001b[0;36m__init__\u001b[1;34m(self, errors)\u001b[0m\n",
            "\u001b[1;31mKeyboardInterrupt\u001b[0m: "
          ]
        }
      ],
      "source": [
        "confirmed_lc = load_data(confirmed_lc_path)"
      ]
    },
    {
      "cell_type": "code",
      "execution_count": null,
      "metadata": {
        "colab": {
          "base_uri": "https://localhost:8080/"
        },
        "id": "JaC2thoWTorj",
        "outputId": "5bc9926d-46ce-4bc4-b528-e2d6960098c0"
      },
      "outputs": [
        {
          "name": "stdout",
          "output_type": "stream",
          "text": [
            "(9611549, 11)\n",
            "          TIME  CADENCENO  SAP_FLUX  DET_FLUX  DET_FLUX_ERR      SAP_X  \\\n",
            "0  3126.642265     820445  1.019994  1.020734      0.005286  1800.3823   \n",
            "1  3126.644580     820446  1.013390  0.992595      0.005286  1800.3783   \n",
            "2  3126.646895     820447  1.015191  0.996209      0.005286  1800.3739   \n",
            "3  3126.649210     820448  1.013493  0.993270      0.005286  1800.3779   \n",
            "4  3126.651525     820449  1.020052  1.002043      0.005286  1800.3721   \n",
            "\n",
            "       SAP_Y  SAP_BKG  SAP_BKG_ERR  DET_FLUX_SML  DET_FLUX_LAG  \n",
            "0  291.42758    64.16        92.99      1.018177      1.020855  \n",
            "1  291.41550   130.18       133.81      0.996789      0.990436  \n",
            "2  291.42462    41.90       155.22      0.996953      0.993630  \n",
            "3  291.41837   175.15       106.80      0.995014      0.993927  \n",
            "4  291.42120   113.13        91.91      1.001834      1.002362  \n",
            "                TIME  CADENCENO  SAP_FLUX  DET_FLUX  DET_FLUX_ERR       SAP_X  \\\n",
            "12589    2207.777683     141165       NaN       NaN      0.006598  1434.43070   \n",
            "14334    2221.464979     143136       NaN       NaN      0.006598  1434.15140   \n",
            "34463    3193.977185     849534       NaN       NaN      0.001293   653.89140   \n",
            "34468    3193.988759     849539       NaN       NaN      0.001293   652.49190   \n",
            "34469    3193.991074     849540       NaN       NaN      0.001293   652.18665   \n",
            "...              ...        ...       ...       ...           ...         ...   \n",
            "9578321  2623.460055     201023       NaN       NaN      0.000868         NaN   \n",
            "9578322  2623.466999     201024       NaN       NaN      0.000868         NaN   \n",
            "9578323  2623.473943     201025       NaN       NaN      0.000868   260.39280   \n",
            "9578324  2623.480888     201026       NaN       NaN      0.000868   752.86050   \n",
            "9601212  2281.362708     151761       NaN       NaN      0.002777         NaN   \n",
            "\n",
            "              SAP_Y      SAP_BKG  SAP_BKG_ERR  DET_FLUX_SML  DET_FLUX_LAG  \n",
            "12589     570.04280     12568.01      8673.78           NaN           NaN  \n",
            "14334     570.16010      3369.50      2145.89           NaN           NaN  \n",
            "34463    1741.05620   5279476.50    107053.16           NaN           NaN  \n",
            "34468    1740.47290   5740643.50      4741.97           NaN           NaN  \n",
            "34469    1741.13670   6673972.00      2399.94           NaN           NaN  \n",
            "...             ...          ...          ...           ...           ...  \n",
            "9578321         NaN          NaN          NaN           NaN           NaN  \n",
            "9578322         NaN          NaN          NaN           NaN           NaN  \n",
            "9578323   275.86084    113040.12      5481.70      0.036594           NaN  \n",
            "9578324   801.23785  10566676.00      3221.71      0.023871           NaN  \n",
            "9601212         NaN   -268464.12     51443.86           NaN           NaN  \n",
            "\n",
            "[65262 rows x 11 columns]\n"
          ]
        }
      ],
      "source": [
        "print(confirmed_lc.shape)\n",
        "print(confirmed_lc.head())\n",
        "print(confirmed_lc[confirmed_lc.isna().any(axis=1)])"
      ]
    },
    {
      "cell_type": "code",
      "execution_count": null,
      "metadata": {
        "id": "008BDQYpZvME"
      },
      "outputs": [],
      "source": [
        "confirmed_lc = confirmed_lc.dropna()"
      ]
    },
    {
      "cell_type": "code",
      "execution_count": null,
      "metadata": {
        "colab": {
          "base_uri": "https://localhost:8080/"
        },
        "id": "vo02dK34Zz-4",
        "outputId": "3f141237-75df-4b30-cada-ea9930405547"
      },
      "outputs": [
        {
          "name": "stdout",
          "output_type": "stream",
          "text": [
            "Empty DataFrame\n",
            "Columns: [TIME, CADENCENO, SAP_FLUX, DET_FLUX, DET_FLUX_ERR, SAP_X, SAP_Y, SAP_BKG, SAP_BKG_ERR, DET_FLUX_SML, DET_FLUX_LAG]\n",
            "Index: []\n"
          ]
        }
      ],
      "source": [
        "print(confirmed_lc[confirmed_lc.isna().any(axis=1)])"
      ]
    },
    {
      "cell_type": "code",
      "execution_count": null,
      "metadata": {
        "id": "nGPonJaTT_Tf"
      },
      "outputs": [],
      "source": [
        "false_lc = load_data(false_lc_path)"
      ]
    },
    {
      "cell_type": "code",
      "execution_count": null,
      "metadata": {
        "colab": {
          "base_uri": "https://localhost:8080/"
        },
        "id": "-HIy4xGpUDNQ",
        "outputId": "0743bf34-cf10-49b7-fe5a-4144fb9c81a9"
      },
      "outputs": [
        {
          "name": "stdout",
          "output_type": "stream",
          "text": [
            "(9446984, 11)\n",
            "          TIME  CADENCENO  SAP_FLUX  DET_FLUX  DET_FLUX_ERR      SAP_X  \\\n",
            "0  2201.736038     140295  1.001515  0.999432      0.000968  1433.3567   \n",
            "1  2201.742983     140296  1.001825  0.999748      0.000968  1433.3525   \n",
            "2  2201.749927     140297  1.000079  0.998011      0.000968  1433.3496   \n",
            "3  2201.756872     140298  1.001060  0.998995      0.000968  1433.3505   \n",
            "4  2201.763816     140299  1.002270  1.000207      0.000968  1433.3500   \n",
            "\n",
            "       SAP_Y  SAP_BKG  SAP_BKG_ERR  DET_FLUX_SML  DET_FLUX_LAG  \n",
            "0  570.46540   562.66       251.62      0.999577      0.999335  \n",
            "1  570.45770   671.52       271.46      0.999712      0.999688  \n",
            "2  570.45667   675.15       220.37      0.998297      0.997560  \n",
            "3  570.45874   582.64       337.43      0.999246      0.998740  \n",
            "4  570.45667   604.41       246.34      1.000076      1.000415  \n",
            "                TIME  CADENCENO  SAP_FLUX  DET_FLUX  DET_FLUX_ERR       SAP_X  \\\n",
            "78032    3312.855252     900893       NaN       NaN      0.020513  1986.58280   \n",
            "133911   1497.931313      12982  0.294771  0.294662      0.005723   190.05034   \n",
            "134307   1507.868840      13459  0.285009  0.285127      0.005723   190.06296   \n",
            "134457   1510.993830      13609       NaN       NaN      0.005723   190.04776   \n",
            "134607   1514.118803      13759  0.321692  0.321825      0.005723   190.04564   \n",
            "...              ...        ...       ...       ...           ...         ...   \n",
            "9442728  3153.173035     831906       NaN       NaN      0.001905   864.21060   \n",
            "9442729  3153.175350     831907       NaN       NaN      0.001905   863.26654   \n",
            "9442730  3153.177665     831908       NaN       NaN      0.001905   863.60864   \n",
            "9442731  3153.179980     831909       NaN       NaN      0.001905   863.92847   \n",
            "9442732  3153.182294     831910       NaN       NaN      0.001905   863.81840   \n",
            "\n",
            "              SAP_Y     SAP_BKG  SAP_BKG_ERR  DET_FLUX_SML  DET_FLUX_LAG  \n",
            "78032    1109.06690     1520.64      5771.06           NaN           NaN  \n",
            "133911    780.25287     4854.98     18387.31      0.613137           NaN  \n",
            "134307    780.27680     2875.33     13691.23      0.661077           NaN  \n",
            "134457    780.27070    17221.66     27382.36      0.422782           NaN  \n",
            "134607    780.27124      322.79     15100.43      0.662570           NaN  \n",
            "...             ...         ...          ...           ...           ...  \n",
            "9442728  1278.11800  1021136.50      5337.13           NaN           NaN  \n",
            "9442729  1277.90440  1057962.80      4840.41           NaN           NaN  \n",
            "9442730  1278.14600  1056052.80      2815.13           NaN           NaN  \n",
            "9442731  1277.96920   838858.00     10011.48           NaN           NaN  \n",
            "9442732  1278.09700   841742.06     28006.43           NaN           NaN  \n",
            "\n",
            "[59735 rows x 11 columns]\n"
          ]
        }
      ],
      "source": [
        "print(false_lc.shape)\n",
        "print(false_lc.head())\n",
        "print(false_lc[false_lc.isna().any(axis=1)])"
      ]
    },
    {
      "cell_type": "code",
      "execution_count": null,
      "metadata": {
        "id": "dvioWHb9UNA3"
      },
      "outputs": [],
      "source": [
        "false_lc = false_lc.dropna()"
      ]
    },
    {
      "cell_type": "code",
      "execution_count": null,
      "metadata": {
        "colab": {
          "base_uri": "https://localhost:8080/"
        },
        "id": "evJd2aQaaG_2",
        "outputId": "53c1ffe2-b95d-45fd-ba6c-baa972255197"
      },
      "outputs": [
        {
          "name": "stdout",
          "output_type": "stream",
          "text": [
            "Empty DataFrame\n",
            "Columns: [TIME, CADENCENO, SAP_FLUX, DET_FLUX, DET_FLUX_ERR, SAP_X, SAP_Y, SAP_BKG, SAP_BKG_ERR, DET_FLUX_SML, DET_FLUX_LAG]\n",
            "Index: []\n"
          ]
        }
      ],
      "source": [
        "print(false_lc[false_lc.isna().any(axis=1)])"
      ]
    },
    {
      "cell_type": "code",
      "execution_count": null,
      "metadata": {
        "colab": {
          "base_uri": "https://localhost:8080/"
        },
        "id": "avGE60yrf8wr",
        "outputId": "018f8639-9745-4cf1-e7ce-c94e4d395c6e"
      },
      "outputs": [
        {
          "name": "stdout",
          "output_type": "stream",
          "text": [
            "TIME            3.339571e+03\n",
            "CADENCENO       9.124310e+05\n",
            "SAP_FLUX        2.149493e+26\n",
            "DET_FLUX                 inf\n",
            "DET_FLUX_ERR    4.809033e-02\n",
            "SAP_X           2.091944e+03\n",
            "SAP_Y           2.046795e+03\n",
            "SAP_BKG         7.474109e+07\n",
            "SAP_BKG_ERR     2.503320e+07\n",
            "DET_FLUX_SML             inf\n",
            "DET_FLUX_LAG             inf\n",
            "dtype: float64\n",
            "TIME            1.325329e+03\n",
            "CADENCENO       4.697000e+03\n",
            "SAP_FLUX        1.179115e-04\n",
            "DET_FLUX        0.000000e+00\n",
            "DET_FLUX_ERR    1.802014e-04\n",
            "SAP_X           4.417363e+01\n",
            "SAP_Y           1.009482e+00\n",
            "SAP_BKG        -6.204268e+07\n",
            "SAP_BKG_ERR     3.120000e+01\n",
            "DET_FLUX_SML    0.000000e+00\n",
            "DET_FLUX_LAG    0.000000e+00\n",
            "dtype: float64\n",
            "TIME            3.339571e+03\n",
            "CADENCENO       9.124310e+05\n",
            "SAP_FLUX        4.747897e+18\n",
            "DET_FLUX                 inf\n",
            "DET_FLUX_ERR    5.470158e-02\n",
            "SAP_X           2.092161e+03\n",
            "SAP_Y           2.047969e+03\n",
            "SAP_BKG         7.392538e+07\n",
            "SAP_BKG_ERR     2.948293e+07\n",
            "DET_FLUX_SML             inf\n",
            "DET_FLUX_LAG             inf\n",
            "dtype: float64\n",
            "TIME            1.354119e+03\n",
            "CADENCENO       6.079000e+03\n",
            "SAP_FLUX        8.310243e-04\n",
            "DET_FLUX        0.000000e+00\n",
            "DET_FLUX_ERR    1.539318e-04\n",
            "SAP_X           4.451372e+01\n",
            "SAP_Y           9.805963e-01\n",
            "SAP_BKG        -2.304495e+07\n",
            "SAP_BKG_ERR     0.000000e+00\n",
            "DET_FLUX_SML    0.000000e+00\n",
            "DET_FLUX_LAG    0.000000e+00\n",
            "dtype: float64\n"
          ]
        }
      ],
      "source": [
        "print(confirmed_lc.max())\n",
        "print(confirmed_lc.min())\n",
        "print(false_lc.max())\n",
        "print(false_lc.min())"
      ]
    },
    {
      "cell_type": "code",
      "execution_count": null,
      "metadata": {
        "colab": {
          "base_uri": "https://localhost:8080/"
        },
        "id": "TQIcPp6VgD5A",
        "outputId": "42e2ebf9-9a90-43c2-d21f-7a476857fb02"
      },
      "outputs": [
        {
          "name": "stdout",
          "output_type": "stream",
          "text": [
            "828\n"
          ]
        }
      ],
      "source": [
        "inf_count_confirmed = confirmed_lc.isin([np.inf]).any(axis=1).sum()\n",
        "print(inf_count_confirmed)"
      ]
    },
    {
      "cell_type": "code",
      "execution_count": null,
      "metadata": {
        "colab": {
          "base_uri": "https://localhost:8080/"
        },
        "id": "jx_9F9ujhw_7",
        "outputId": "9b257eed-dd3b-48d0-99f5-fe3e095930a5"
      },
      "outputs": [
        {
          "name": "stdout",
          "output_type": "stream",
          "text": [
            "893\n"
          ]
        }
      ],
      "source": [
        "inf_count_false = false_lc.isin([np.inf]).any(axis=1).sum()\n",
        "print(inf_count_false)"
      ]
    },
    {
      "cell_type": "code",
      "execution_count": null,
      "metadata": {
        "colab": {
          "base_uri": "https://localhost:8080/"
        },
        "id": "KTCYd1e9iQde",
        "outputId": "55b2711b-ec37-458b-d6f8-11550fe1f4bf"
      },
      "outputs": [
        {
          "name": "stdout",
          "output_type": "stream",
          "text": [
            "(9546287, 11)\n",
            "(9387249, 11)\n"
          ]
        }
      ],
      "source": [
        "print(confirmed_lc.shape)\n",
        "print(false_lc.shape)"
      ]
    },
    {
      "cell_type": "code",
      "execution_count": null,
      "metadata": {
        "id": "qRAa0maHiUke"
      },
      "outputs": [],
      "source": [
        "confirmed_lc = confirmed_lc[~confirmed_lc.isin([np.inf]).any(axis=1)]\n",
        "false_lc = false_lc[~false_lc.isin([np.inf]).any(axis=1)]"
      ]
    },
    {
      "cell_type": "code",
      "execution_count": null,
      "metadata": {
        "colab": {
          "base_uri": "https://localhost:8080/"
        },
        "id": "DURc3YJGilBC",
        "outputId": "fa71e58c-7db4-4c60-82b7-ab3b75a3ead0"
      },
      "outputs": [
        {
          "name": "stdout",
          "output_type": "stream",
          "text": [
            "(9545459, 11)\n",
            "(9386356, 11)\n"
          ]
        }
      ],
      "source": [
        "print(confirmed_lc.shape)\n",
        "print(false_lc.shape)"
      ]
    },
    {
      "cell_type": "code",
      "execution_count": null,
      "metadata": {
        "colab": {
          "base_uri": "https://localhost:8080/"
        },
        "id": "0ZvFZKZ9aJcz",
        "outputId": "a01a20be-0969-49b2-dcfb-7a9992423a1c"
      },
      "outputs": [],
      "source": [
        "confirmed_lc[\"LABEL\"] = 1\n",
        "false_lc[\"LABEL\"] = 0"
      ]
    },
    {
      "cell_type": "markdown",
      "metadata": {
        "id": "PE0jkNDraN4s"
      },
      "source": [
        "# Train Random Forest Classifier"
      ]
    },
    {
      "cell_type": "code",
      "execution_count": null,
      "metadata": {
        "id": "nFfPWBmNaWMS"
      },
      "outputs": [],
      "source": [
        "data = pd.concat([confirmed_lc, false_lc], ignore_index=True)"
      ]
    },
    {
      "cell_type": "code",
      "execution_count": null,
      "metadata": {
        "colab": {
          "base_uri": "https://localhost:8080/"
        },
        "id": "8YlbsLDUeML2",
        "outputId": "325c79f1-93c8-4335-c891-dff8a48a911b"
      },
      "outputs": [
        {
          "name": "stdout",
          "output_type": "stream",
          "text": [
            "(18931815, 12)\n",
            "          TIME  CADENCENO  SAP_FLUX  DET_FLUX  DET_FLUX_ERR      SAP_X  \\\n",
            "0  3126.642265     820445  1.019994  1.020734      0.005286  1800.3823   \n",
            "1  3126.644580     820446  1.013390  0.992595      0.005286  1800.3783   \n",
            "2  3126.646895     820447  1.015191  0.996209      0.005286  1800.3739   \n",
            "3  3126.649210     820448  1.013493  0.993270      0.005286  1800.3779   \n",
            "4  3126.651525     820449  1.020052  1.002043      0.005286  1800.3721   \n",
            "\n",
            "       SAP_Y  SAP_BKG  SAP_BKG_ERR  DET_FLUX_SML  DET_FLUX_LAG  LABEL  \n",
            "0  291.42758    64.16        92.99      1.018177      1.020855      1  \n",
            "1  291.41550   130.18       133.81      0.996789      0.990436      1  \n",
            "2  291.42462    41.90       155.22      0.996953      0.993630      1  \n",
            "3  291.41837   175.15       106.80      0.995014      0.993927      1  \n",
            "4  291.42120   113.13        91.91      1.001834      1.002362      1  \n"
          ]
        }
      ],
      "source": [
        "print(data.shape)\n",
        "print(data.head())"
      ]
    },
    {
      "cell_type": "code",
      "execution_count": null,
      "metadata": {
        "id": "Q-17H2XedAiv"
      },
      "outputs": [],
      "source": [
        "del false_lc\n",
        "del confirmed_lc"
      ]
    },
    {
      "cell_type": "code",
      "execution_count": null,
      "metadata": {
        "colab": {
          "base_uri": "https://localhost:8080/"
        },
        "id": "Glm-BpNSdFqU",
        "outputId": "619c12cf-d90e-4a33-97b9-0c971dc23910"
      },
      "outputs": [
        {
          "data": {
            "text/plain": [
              "0"
            ]
          },
          "execution_count": 27,
          "metadata": {},
          "output_type": "execute_result"
        }
      ],
      "source": [
        "import gc\n",
        "gc.collect()"
      ]
    },
    {
      "cell_type": "code",
      "execution_count": null,
      "metadata": {
        "id": "pkFnDs-Ea0sk"
      },
      "outputs": [],
      "source": [
        "X = data.drop([\"LABEL\"], axis=1)\n",
        "y = data[\"LABEL\"]"
      ]
    },
    {
      "cell_type": "code",
      "execution_count": null,
      "metadata": {
        "colab": {
          "base_uri": "https://localhost:8080/"
        },
        "id": "k6Jco34keTKW",
        "outputId": "115a3111-ec81-43a7-d848-4179a26abf8d"
      },
      "outputs": [
        {
          "name": "stdout",
          "output_type": "stream",
          "text": [
            "          TIME  CADENCENO  SAP_FLUX  DET_FLUX  DET_FLUX_ERR      SAP_X  \\\n",
            "0  3126.642265     820445  1.019994  1.020734      0.005286  1800.3823   \n",
            "1  3126.644580     820446  1.013390  0.992595      0.005286  1800.3783   \n",
            "2  3126.646895     820447  1.015191  0.996209      0.005286  1800.3739   \n",
            "3  3126.649210     820448  1.013493  0.993270      0.005286  1800.3779   \n",
            "4  3126.651525     820449  1.020052  1.002043      0.005286  1800.3721   \n",
            "\n",
            "       SAP_Y  SAP_BKG  SAP_BKG_ERR  DET_FLUX_SML  DET_FLUX_LAG  \n",
            "0  291.42758    64.16        92.99      1.018177      1.020855  \n",
            "1  291.41550   130.18       133.81      0.996789      0.990436  \n",
            "2  291.42462    41.90       155.22      0.996953      0.993630  \n",
            "3  291.41837   175.15       106.80      0.995014      0.993927  \n",
            "4  291.42120   113.13        91.91      1.001834      1.002362  \n",
            "0    1\n",
            "1    1\n",
            "2    1\n",
            "3    1\n",
            "4    1\n",
            "Name: LABEL, dtype: int64\n"
          ]
        }
      ],
      "source": [
        "print(X.head())\n",
        "print(y.head())"
      ]
    },
    {
      "cell_type": "code",
      "execution_count": null,
      "metadata": {
        "id": "cGCKyP6PdRcx"
      },
      "outputs": [],
      "source": [
        "del data"
      ]
    },
    {
      "cell_type": "code",
      "execution_count": null,
      "metadata": {
        "id": "pqizRwOVbGSL"
      },
      "outputs": [],
      "source": [
        "X_train, X_test, y_train, y_test = train_test_split(X, y, test_size = 0.2, random_state= 69)"
      ]
    },
    {
      "cell_type": "code",
      "execution_count": null,
      "metadata": {
        "id": "72ZabOPykdoL"
      },
      "outputs": [],
      "source": [
        "del X\n",
        "del y"
      ]
    },
    {
      "cell_type": "code",
      "execution_count": null,
      "metadata": {
        "id": "MjnkcQacbW01"
      },
      "outputs": [],
      "source": [
        "rf = RandomForestClassifier(n_estimators=10, random_state=69, warm_start = True, oob_score=True, n_jobs=-1)"
      ]
    },
    {
      "cell_type": "code",
      "execution_count": null,
      "metadata": {
        "colab": {
          "base_uri": "https://localhost:8080/",
          "height": 148
        },
        "id": "WMDPif4XbgqK",
        "outputId": "37d42aa8-d4dc-46bb-9d2b-465930643ffd"
      },
      "outputs": [
        {
          "name": "stderr",
          "output_type": "stream",
          "text": [
            "g:\\anaconda3\\Lib\\site-packages\\sklearn\\ensemble\\_forest.py:583: UserWarning: Some inputs do not have OOB scores. This probably means too few trees were used to compute any reliable OOB estimates.\n",
            "  warn(\n"
          ]
        },
        {
          "data": {
            "text/html": [
              "<style>#sk-container-id-1 {color: black;background-color: white;}#sk-container-id-1 pre{padding: 0;}#sk-container-id-1 div.sk-toggleable {background-color: white;}#sk-container-id-1 label.sk-toggleable__label {cursor: pointer;display: block;width: 100%;margin-bottom: 0;padding: 0.3em;box-sizing: border-box;text-align: center;}#sk-container-id-1 label.sk-toggleable__label-arrow:before {content: \"▸\";float: left;margin-right: 0.25em;color: #696969;}#sk-container-id-1 label.sk-toggleable__label-arrow:hover:before {color: black;}#sk-container-id-1 div.sk-estimator:hover label.sk-toggleable__label-arrow:before {color: black;}#sk-container-id-1 div.sk-toggleable__content {max-height: 0;max-width: 0;overflow: hidden;text-align: left;background-color: #f0f8ff;}#sk-container-id-1 div.sk-toggleable__content pre {margin: 0.2em;color: black;border-radius: 0.25em;background-color: #f0f8ff;}#sk-container-id-1 input.sk-toggleable__control:checked~div.sk-toggleable__content {max-height: 200px;max-width: 100%;overflow: auto;}#sk-container-id-1 input.sk-toggleable__control:checked~label.sk-toggleable__label-arrow:before {content: \"▾\";}#sk-container-id-1 div.sk-estimator input.sk-toggleable__control:checked~label.sk-toggleable__label {background-color: #d4ebff;}#sk-container-id-1 div.sk-label input.sk-toggleable__control:checked~label.sk-toggleable__label {background-color: #d4ebff;}#sk-container-id-1 input.sk-hidden--visually {border: 0;clip: rect(1px 1px 1px 1px);clip: rect(1px, 1px, 1px, 1px);height: 1px;margin: -1px;overflow: hidden;padding: 0;position: absolute;width: 1px;}#sk-container-id-1 div.sk-estimator {font-family: monospace;background-color: #f0f8ff;border: 1px dotted black;border-radius: 0.25em;box-sizing: border-box;margin-bottom: 0.5em;}#sk-container-id-1 div.sk-estimator:hover {background-color: #d4ebff;}#sk-container-id-1 div.sk-parallel-item::after {content: \"\";width: 100%;border-bottom: 1px solid gray;flex-grow: 1;}#sk-container-id-1 div.sk-label:hover label.sk-toggleable__label {background-color: #d4ebff;}#sk-container-id-1 div.sk-serial::before {content: \"\";position: absolute;border-left: 1px solid gray;box-sizing: border-box;top: 0;bottom: 0;left: 50%;z-index: 0;}#sk-container-id-1 div.sk-serial {display: flex;flex-direction: column;align-items: center;background-color: white;padding-right: 0.2em;padding-left: 0.2em;position: relative;}#sk-container-id-1 div.sk-item {position: relative;z-index: 1;}#sk-container-id-1 div.sk-parallel {display: flex;align-items: stretch;justify-content: center;background-color: white;position: relative;}#sk-container-id-1 div.sk-item::before, #sk-container-id-1 div.sk-parallel-item::before {content: \"\";position: absolute;border-left: 1px solid gray;box-sizing: border-box;top: 0;bottom: 0;left: 50%;z-index: -1;}#sk-container-id-1 div.sk-parallel-item {display: flex;flex-direction: column;z-index: 1;position: relative;background-color: white;}#sk-container-id-1 div.sk-parallel-item:first-child::after {align-self: flex-end;width: 50%;}#sk-container-id-1 div.sk-parallel-item:last-child::after {align-self: flex-start;width: 50%;}#sk-container-id-1 div.sk-parallel-item:only-child::after {width: 0;}#sk-container-id-1 div.sk-dashed-wrapped {border: 1px dashed gray;margin: 0 0.4em 0.5em 0.4em;box-sizing: border-box;padding-bottom: 0.4em;background-color: white;}#sk-container-id-1 div.sk-label label {font-family: monospace;font-weight: bold;display: inline-block;line-height: 1.2em;}#sk-container-id-1 div.sk-label-container {text-align: center;}#sk-container-id-1 div.sk-container {/* jupyter's `normalize.less` sets `[hidden] { display: none; }` but bootstrap.min.css set `[hidden] { display: none !important; }` so we also need the `!important` here to be able to override the default hidden behavior on the sphinx rendered scikit-learn.org. See: https://github.com/scikit-learn/scikit-learn/issues/21755 */display: inline-block !important;position: relative;}#sk-container-id-1 div.sk-text-repr-fallback {display: none;}</style><div id=\"sk-container-id-1\" class=\"sk-top-container\"><div class=\"sk-text-repr-fallback\"><pre>RandomForestClassifier(n_estimators=10, n_jobs=-1, oob_score=True,\n",
              "                       random_state=69, warm_start=True)</pre><b>In a Jupyter environment, please rerun this cell to show the HTML representation or trust the notebook. <br />On GitHub, the HTML representation is unable to render, please try loading this page with nbviewer.org.</b></div><div class=\"sk-container\" hidden><div class=\"sk-item\"><div class=\"sk-estimator sk-toggleable\"><input class=\"sk-toggleable__control sk-hidden--visually\" id=\"sk-estimator-id-1\" type=\"checkbox\" checked><label for=\"sk-estimator-id-1\" class=\"sk-toggleable__label sk-toggleable__label-arrow\">RandomForestClassifier</label><div class=\"sk-toggleable__content\"><pre>RandomForestClassifier(n_estimators=10, n_jobs=-1, oob_score=True,\n",
              "                       random_state=69, warm_start=True)</pre></div></div></div></div></div>"
            ],
            "text/plain": [
              "RandomForestClassifier(n_estimators=10, n_jobs=-1, oob_score=True,\n",
              "                       random_state=69, warm_start=True)"
            ]
          },
          "execution_count": 34,
          "metadata": {},
          "output_type": "execute_result"
        }
      ],
      "source": [
        "rf.fit(X_train, y_train)"
      ]
    },
    {
      "cell_type": "code",
      "execution_count": null,
      "metadata": {
        "colab": {
          "base_uri": "https://localhost:8080/"
        },
        "id": "d5jHthHikmyM",
        "outputId": "dbb233eb-ae42-4ac6-9bae-5ec24cde813d"
      },
      "outputs": [
        {
          "name": "stdout",
          "output_type": "stream",
          "text": [
            "0.9926161992392172\n",
            "0.9977223525583786\n"
          ]
        }
      ],
      "source": [
        "print(rf.oob_score_)\n",
        "print(rf.score(X_test, y_test))"
      ]
    },
    {
      "cell_type": "code",
      "execution_count": null,
      "metadata": {
        "colab": {
          "base_uri": "https://localhost:8080/"
        },
        "id": "cCWom340QEd7",
        "outputId": "9c952e96-c475-460c-fb20-93b54050e186"
      },
      "outputs": [
        {
          "data": {
            "text/plain": [
              "array([1, 0, 0, ..., 0, 1, 1], dtype=int64)"
            ]
          },
          "execution_count": 36,
          "metadata": {},
          "output_type": "execute_result"
        }
      ],
      "source": [
        "rf.predict(X_test)"
      ]
    },
    {
      "cell_type": "markdown",
      "metadata": {
        "id": "fFnD7T_mQw1_"
      },
      "source": [
        "# Test with Random Data"
      ]
    },
    {
      "cell_type": "code",
      "execution_count": null,
      "metadata": {
        "id": "sW9SvbvVQy5e"
      },
      "outputs": [],
      "source": [
        "def load_and_predict(filepath, model):\n",
        "  df = pd.read_csv(filepath)\n",
        "  df = df.iloc[:, :13]\n",
        "\n",
        "  df = df.rename(\n",
        "      columns={\n",
        "          \"KSPSAP_FLUX\": \"DET_FLUX\",\n",
        "          \"KSPSAP_FLUX_ERR\": \"DET_FLUX_ERR\",\n",
        "          \"KSPSAP_FLUX_SML\": \"DET_FLUX_SML\",\n",
        "          \"KSPSAP_FLUX_LAG\": \"DET_FLUX_LAG\",\n",
        "      }\n",
        "  )\n",
        "  df = df.dropna()\n",
        "  df = df[~df.isin([np.inf]).any(axis=1)]\n",
        "  df = df.drop([\"QUALITY\", \"ORBITID\"], axis=1)\n",
        "  prediction = model.predict(df)\n",
        "  return prediction"
      ]
    },
    {
      "cell_type": "code",
      "execution_count": null,
      "metadata": {
        "id": "79vR5gllSwYL"
      },
      "outputs": [],
      "source": [
        "import random\n",
        "\n",
        "def test_random_lightcurve(model, confirmed_path, false_path):\n",
        "  paths = [confirmed_path, false_path]\n",
        "  chosen_path = random.choice(paths)\n",
        "  is_confirmed = chosen_path == confirmed_path\n",
        "\n",
        "  files = [f for f in os.listdir(chosen_path) if f.endswith(\".csv\")]\n",
        "  random_file = random.choice(files)\n",
        "  filepath = os.path.join(chosen_path, random_file)\n",
        "\n",
        "  prediction = load_and_predict(filepath, model)\n",
        "\n",
        "  print(f\"File: {filepath}\")\n",
        "  print(f\"Actual Category: {'Confirmed' if is_confirmed else 'False'}\")\n",
        "  print(f\"Predicted Category: {'Confirmed' if prediction[0] == 1 else 'False'}\")\n"
      ]
    },
    {
      "cell_type": "code",
      "execution_count": null,
      "metadata": {},
      "outputs": [],
      "source": [
        "validation_confirmed_lc_path = \"data/validation_lightcurves/confirmed_validation\"\n",
        "validation_false_lc_path = \"data/validation_lightcurves/false_validation\""
      ]
    },
    {
      "cell_type": "code",
      "execution_count": null,
      "metadata": {
        "colab": {
          "base_uri": "https://localhost:8080/"
        },
        "id": "5G8VEE9RTxLG",
        "outputId": "443b7cac-1c49-4199-f590-b281aff7b9c2"
      },
      "outputs": [
        {
          "name": "stdout",
          "output_type": "stream",
          "text": [
            "File: data/validation_lightcurves/false_validation\\460140752_lightcurve.csv\n",
            "Actual Category: False\n",
            "Predicted Category: False\n",
            "File: data/validation_lightcurves/confirmed_validation\\464067218_lightcurve.csv\n",
            "Actual Category: Confirmed\n",
            "Predicted Category: Confirmed\n",
            "File: data/validation_lightcurves/confirmed_validation\\465275307_lightcurve.csv\n",
            "Actual Category: Confirmed\n",
            "Predicted Category: Confirmed\n",
            "File: data/validation_lightcurves/confirmed_validation\\465540915_lightcurve.csv\n",
            "Actual Category: Confirmed\n",
            "Predicted Category: Confirmed\n",
            "File: data/validation_lightcurves/confirmed_validation\\466113537_lightcurve.csv\n",
            "Actual Category: Confirmed\n",
            "Predicted Category: False\n",
            "File: data/validation_lightcurves/confirmed_validation\\464328419_lightcurve.csv\n",
            "Actual Category: Confirmed\n",
            "Predicted Category: Confirmed\n",
            "File: data/validation_lightcurves/false_validation\\459997997_lightcurve.csv\n",
            "Actual Category: False\n",
            "Predicted Category: False\n",
            "File: data/validation_lightcurves/confirmed_validation\\470127886_lightcurve.csv\n",
            "Actual Category: Confirmed\n",
            "Predicted Category: False\n",
            "File: data/validation_lightcurves/false_validation\\462162963_lightcurve.csv\n",
            "Actual Category: False\n",
            "Predicted Category: Confirmed\n",
            "File: data/validation_lightcurves/confirmed_validation\\465540915_lightcurve.csv\n",
            "Actual Category: Confirmed\n",
            "Predicted Category: Confirmed\n"
          ]
        }
      ],
      "source": [
        "for i in range(10):\n",
        "  test_random_lightcurve(rf, validation_confirmed_lc_path, validation_false_lc_path)"
      ]
    },
    {
      "cell_type": "markdown",
      "metadata": {},
      "source": [
        "# Save the Model using joblib"
      ]
    },
    {
      "cell_type": "code",
      "execution_count": null,
      "metadata": {
        "id": "QWayE7AHTyoa"
      },
      "outputs": [
        {
          "data": {
            "text/plain": [
              "['models/random_forest_lightcurve_classifier.pkl']"
            ]
          },
          "execution_count": 42,
          "metadata": {},
          "output_type": "execute_result"
        }
      ],
      "source": [
        "if not os.path.exists(\"models\"):\n",
        "    os.makedirs(\"models\")\n",
        "joblib.dump(rf, \"models/random_forest_lightcurve_classifier.pkl\")"
      ]
    },
    {
      "cell_type": "markdown",
      "metadata": {},
      "source": [
        "# Improving the Model"
      ]
    },
    {
      "cell_type": "code",
      "execution_count": null,
      "metadata": {},
      "outputs": [],
      "source": []
    }
  ],
  "metadata": {
    "accelerator": "GPU",
    "colab": {
      "gpuType": "A100",
      "machine_shape": "hm",
      "provenance": [],
      "toc_visible": true
    },
    "kernelspec": {
      "display_name": "Python 3",
      "name": "python3"
    },
    "language_info": {
      "codemirror_mode": {
        "name": "ipython",
        "version": 3
      },
      "file_extension": ".py",
      "mimetype": "text/x-python",
      "name": "python",
      "nbconvert_exporter": "python",
      "pygments_lexer": "ipython3",
      "version": "3.11.7"
    }
  },
  "nbformat": 4,
  "nbformat_minor": 0
}
